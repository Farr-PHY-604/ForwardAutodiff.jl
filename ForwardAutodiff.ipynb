{
 "cells": [
  {
   "cell_type": "code",
   "execution_count": 1,
   "metadata": {},
   "outputs": [],
   "source": [
    "import Base: exp, sin, cos, +, -, *, /, sqrt, convert, promote_rule, zero\n",
    "import Test: @test, @testset"
   ]
  },
  {
   "cell_type": "markdown",
   "metadata": {},
   "source": [
    "This is a bit different than we had in class: we are saying that `T` must be a sub-type of `Number` (actually, if you really want to bend your brain, you can sensibly define derivatives of [regular expressions](http://www.ccs.neu.edu/home/turon/re-deriv.pdf), but that's a bridge too far, even for me!); we are also stating that our new type, `Infinitesimal{T}` is also a subtype of `Number` (this is required for some arithmetic promotion to function automatically)."
   ]
  },
  {
   "cell_type": "code",
   "execution_count": 2,
   "metadata": {},
   "outputs": [],
   "source": [
    "struct Infinitesimal{T <: Number} <: Number\n",
    "    x::T\n",
    "    dx::T\n",
    "end"
   ]
  },
  {
   "cell_type": "markdown",
   "metadata": {},
   "source": [
    "What follows are some rules for converting things to infinitesimals and also promoting infinitesimals to a common type; this simplifies algebra operators like `+`.  If we define the promotion and conversion right, we only need to define the `+` operation on two infinitesimals of the same type; there are automatic rules that are employed for mixed operations that try to promote and convert them to a common type by default, and these will land us in the \"sum two infinitesimals\" case automatically when we write `(x,dx) + y`.\n",
    "\n",
    "If you want to read more about these rules for conversion and promotion, see [the chapter of the Julia manual](https://docs.julialang.org/en/v1/manual/conversion-and-promotion/).\n",
    "\n",
    "First conversion.  The first method is saying how to convert an `x` of type `T` to `Infinitesimal{T}`: we just store `x` in the value slot, and zero (of the same type as x) in the infinitesimal spot.  The second method says that to convert an `Infinitesimal` storing type `S`, to one storing type `T`, we just convert the value part and infinitesimal parts to type `T`."
   ]
  },
  {
   "cell_type": "code",
   "execution_count": 3,
   "metadata": {},
   "outputs": [
    {
     "data": {
      "text/plain": [
       "convert (generic function with 193 methods)"
      ]
     },
     "execution_count": 3,
     "metadata": {},
     "output_type": "execute_result"
    }
   ],
   "source": [
    "function convert(::Type{Infinitesimal{T}}, x::T) where {T}\n",
    "   Infinitesimal(x, zero(x)) \n",
    "end\n",
    "function convert(::Type{Infinitesimal{T}}, x::Infinitesimal{S}) where {S, T}\n",
    "   Infinitesimal(T(x.x), T(x.dx))\n",
    "end\n",
    "# This is needed according to an error before\n",
    "function convert(::Type{Infinitesimal{T}}, x::T) where {T <: Number}\n",
    "    Infinitesimal(x, zero(x))\n",
    "end\n",
    "function convert(::Type{Infinitesimal{T}}, x::S) where {T, S <: Number}\n",
    "    x_as_T = convert(T, x)\n",
    "    Infinitesimal(x_as_T, zero(x_as_T))\n",
    "end"
   ]
  },
  {
   "cell_type": "markdown",
   "metadata": {},
   "source": [
    "The way we have defined `convert` would actually permit nesting of infinitesimals, as long as we define `zero` properly:"
   ]
  },
  {
   "cell_type": "code",
   "execution_count": 4,
   "metadata": {},
   "outputs": [
    {
     "data": {
      "text/plain": [
       "zero (generic function with 16 methods)"
      ]
     },
     "execution_count": 4,
     "metadata": {},
     "output_type": "execute_result"
    }
   ],
   "source": [
    "function zero(x::Infinitesimal{T}) where T\n",
    "    Infinitesimal(zero(x.x), zero(x.dx))\n",
    "end"
   ]
  },
  {
   "cell_type": "markdown",
   "metadata": {},
   "source": [
    "Now for promotion. "
   ]
  },
  {
   "cell_type": "code",
   "execution_count": 19,
   "metadata": {},
   "outputs": [
    {
     "data": {
      "text/plain": [
       "promote_rule (generic function with 141 methods)"
      ]
     },
     "execution_count": 19,
     "metadata": {},
     "output_type": "execute_result"
    }
   ],
   "source": [
    "function promote_rule(::Type{Infinitesimal{T}}, ::Type{Infinitesimal{S}}) where {T,S}\n",
    "    Infinitesimal{promote_type(T,S)}\n",
    "end\n",
    "function promote_rule(::Type{Infinitesimal{T}}, ::Type{S}) where {T, S <: Number}\n",
    "    Infinitesimal{promote_type(T,S)}\n",
    "end\n",
    "function promote_rule(::Type{T}, ::Type{Infinitesimal{S}}) where {T <: Number, S}\n",
    "    Infinitesimal{promote_type(T,S)}\n",
    "end\n",
    "function promote_rule(::Type{S}, ::Type{Infinitesimal{T}}) where {S <: AbstractIrrational, T}\n",
    "    Infinitesimal{promote_type(S,T)}\n",
    "end"
   ]
  },
  {
   "cell_type": "markdown",
   "metadata": {},
   "source": [
    "Now something we didn't do in class: let's define an `extract_derivative` method that can operate on scalars or arrays."
   ]
  },
  {
   "cell_type": "code",
   "execution_count": 6,
   "metadata": {},
   "outputs": [
    {
     "data": {
      "text/plain": [
       "extract_derivative (generic function with 3 methods)"
      ]
     },
     "execution_count": 6,
     "metadata": {},
     "output_type": "execute_result"
    }
   ],
   "source": [
    "function extract_derivative(xdx::Infinitesimal)\n",
    "    return xdx.dx\n",
    "end\n",
    "function extract_derivative(xs::Array)\n",
    "    [extract_derivative(x) for x in xs]\n",
    "end\n",
    "function extract_derivative(xs::Tuple)\n",
    "    convert(Tuple, [extract_derivative(x) for x in xs])\n",
    "end"
   ]
  },
  {
   "cell_type": "markdown",
   "metadata": {},
   "source": [
    "Now we break the logical flow a bit, and define the differential operator, in two cases (one single-arg differential, one multiple-arg differential).  Note the docstring-like comment (remember from our best-practices Python lecture); see best practices for [Julia docstrings](https://docs.julialang.org/en/v1/manual/documentation/)."
   ]
  },
  {
   "cell_type": "code",
   "execution_count": 29,
   "metadata": {},
   "outputs": [
    {
     "data": {
      "text/plain": [
       "D (generic function with 2 methods)"
      ]
     },
     "execution_count": 29,
     "metadata": {},
     "output_type": "execute_result"
    }
   ],
   "source": [
    "\"\"\"    D([i], f)\n",
    "\n",
    "Differential operator; with an optional integer, specifies a partial derivative \n",
    "with respect to argment `i` (from 1).\n",
    "\n",
    "Returns a function that computes the derivative of `f`.  NOTE: at the moment, \n",
    "nested derivatives won't work: `D(D(f))` will not compute a second derivative.\n",
    "\"\"\"\n",
    "function D(f)\n",
    "    function df(x)\n",
    "        xdx = Infinitesimal(x, one(x))\n",
    "        result = f(xdx)\n",
    "        return extract_derivative(result)\n",
    "    end\n",
    "    df\n",
    "end\n",
    "function D(i::Integer, f)\n",
    "    function df(xs...)\n",
    "        xarr = [(j != i ? x : Infinitesimal(x, one(x))) for (j,x) in enumerate(xs)]\n",
    "        result = f(xarr...)\n",
    "        return extract_derivative(result)\n",
    "    end\n",
    "    df\n",
    "end"
   ]
  },
  {
   "cell_type": "markdown",
   "metadata": {},
   "source": [
    "Let's look at our pretty docstring using the \"help\" operator:"
   ]
  },
  {
   "cell_type": "code",
   "execution_count": 8,
   "metadata": {},
   "outputs": [
    {
     "name": "stdout",
     "output_type": "stream",
     "text": [
      "search: \u001b[0m\u001b[1mD\u001b[22m \u001b[0m\u001b[1md\u001b[22mo \u001b[0m\u001b[1md\u001b[22miv \u001b[0m\u001b[1mD\u001b[22mocs \u001b[0m\u001b[1mD\u001b[22mims \u001b[0m\u001b[1mD\u001b[22mict \u001b[0m\u001b[1md\u001b[22mump \u001b[0m\u001b[1md\u001b[22miff \u001b[0m\u001b[1md\u001b[22mivrem \u001b[0m\u001b[1md\u001b[22migits \u001b[0m\u001b[1md\u001b[22metach \u001b[0m\u001b[1mD\u001b[22mataType \u001b[0m\u001b[1md\u001b[22misplay\n",
      "\n"
     ]
    },
    {
     "data": {
      "text/latex": [
       "\\begin{verbatim}\n",
       "D([i], f)\n",
       "\\end{verbatim}\n",
       "Differential operator; with an optional integer, specifies a partial derivative  with respect to argment \\texttt{i} (from 1).\n",
       "\n",
       "Returns a function that computes the derivative of \\texttt{f}.  NOTE: at the moment,  nested derivatives won't work: \\texttt{D(D(f))} will not compute a second derivative.\n",
       "\n"
      ],
      "text/markdown": [
       "```\n",
       "D([i], f)\n",
       "```\n",
       "\n",
       "Differential operator; with an optional integer, specifies a partial derivative  with respect to argment `i` (from 1).\n",
       "\n",
       "Returns a function that computes the derivative of `f`.  NOTE: at the moment,  nested derivatives won't work: `D(D(f))` will not compute a second derivative.\n"
      ],
      "text/plain": [
       "\u001b[36m  D([i], f)\u001b[39m\n",
       "\n",
       "  Differential operator; with an optional integer, specifies a partial\n",
       "  derivative with respect to argment \u001b[36mi\u001b[39m (from 1).\n",
       "\n",
       "  Returns a function that computes the derivative of \u001b[36mf\u001b[39m. NOTE: at the moment,\n",
       "  nested derivatives won't work: \u001b[36mD(D(f))\u001b[39m will not compute a second derivative."
      ]
     },
     "execution_count": 8,
     "metadata": {},
     "output_type": "execute_result"
    }
   ],
   "source": [
    "?D"
   ]
  },
  {
   "cell_type": "markdown",
   "metadata": {},
   "source": [
    "Now on to some mathematical definitions.  We begin with arithmetic:"
   ]
  },
  {
   "cell_type": "code",
   "execution_count": 9,
   "metadata": {},
   "outputs": [
    {
     "data": {
      "text/plain": [
       "/ (generic function with 103 methods)"
      ]
     },
     "execution_count": 9,
     "metadata": {},
     "output_type": "execute_result"
    }
   ],
   "source": [
    "function +(x::Infinitesimal, y::Infinitesimal)\n",
    "    Infinitesimal(x.x+y.x, x.dx+y.dx)\n",
    "end\n",
    "function -(x::Infinitesimal, y::Infinitesimal)\n",
    "    Infinitesimal(x.x-y.x, x.dx-y.dx)\n",
    "end\n",
    "function -(x::Infinitesimal)\n",
    "    Infinitesimal(-x.x, -x.dx)\n",
    "end\n",
    "function *(x::Infinitesimal, y::Infinitesimal)\n",
    "    Infinitesimal(x.x*y.x, x.x*y.dx + x.dx*y.x)\n",
    "end\n",
    "function /(x::Infinitesimal, y::Infinitesimal)\n",
    "    Infinitesimal(x.x/y.x, x.dx/y.x - x.x*y.dx/(y.x*y.x))\n",
    "end"
   ]
  },
  {
   "cell_type": "markdown",
   "metadata": {},
   "source": [
    "Now square roots:"
   ]
  },
  {
   "cell_type": "code",
   "execution_count": 10,
   "metadata": {},
   "outputs": [
    {
     "data": {
      "text/plain": [
       "sqrt (generic function with 20 methods)"
      ]
     },
     "execution_count": 10,
     "metadata": {},
     "output_type": "execute_result"
    }
   ],
   "source": [
    "function sqrt(x::Infinitesimal)\n",
    "    Infinitesimal(sqrt(x.x), x.dx/(2*sqrt(x.x)))\n",
    "end"
   ]
  },
  {
   "cell_type": "markdown",
   "metadata": {},
   "source": [
    "And transcendental functions:"
   ]
  },
  {
   "cell_type": "code",
   "execution_count": 11,
   "metadata": {},
   "outputs": [
    {
     "data": {
      "text/plain": [
       "cos (generic function with 13 methods)"
      ]
     },
     "execution_count": 11,
     "metadata": {},
     "output_type": "execute_result"
    }
   ],
   "source": [
    "function exp(x::Infinitesimal)\n",
    "    return Infinitesimal(exp(x.x), exp(x.x)*x.dx)\n",
    "end\n",
    "function sin(x::Infinitesimal)\n",
    "    return Infinitesimal(sin(x.x), cos(x.x)*x.dx)\n",
    "end\n",
    "function cos(x::Infinitesimal)\n",
    "    return Infinitesimal(cos(x.x), -sin(x.x)*x.dx)\n",
    "end"
   ]
  },
  {
   "cell_type": "markdown",
   "metadata": {},
   "source": [
    "A quick test (`exp` is its own derivative):"
   ]
  },
  {
   "cell_type": "code",
   "execution_count": 12,
   "metadata": {},
   "outputs": [
    {
     "data": {
      "text/plain": [
       "\u001b[32m\u001b[1mTest Passed\u001b[22m\u001b[39m"
      ]
     },
     "execution_count": 12,
     "metadata": {},
     "output_type": "execute_result"
    }
   ],
   "source": [
    "@test begin\n",
    "    x = randn()\n",
    "    isapprox(D(exp)(x), exp(x))\n",
    "end"
   ]
  },
  {
   "cell_type": "markdown",
   "metadata": {},
   "source": [
    "It (now---thanks to conversion and promotion) works with other types of numbers, too:"
   ]
  },
  {
   "cell_type": "code",
   "execution_count": 13,
   "metadata": {},
   "outputs": [
    {
     "name": "stdout",
     "output_type": "stream",
     "text": [
      "\u001b[37m\u001b[1mTest Summary:               | \u001b[22m\u001b[39m\u001b[32m\u001b[1mPass  \u001b[22m\u001b[39m\u001b[36m\u001b[1mTotal\u001b[22m\u001b[39m\n",
      "It works on different types | \u001b[32m   4  \u001b[39m\u001b[36m    4\u001b[39m\n"
     ]
    },
    {
     "data": {
      "text/plain": [
       "Test.DefaultTestSet(\"It works on different types\", Any[], 4, false)"
      ]
     },
     "execution_count": 13,
     "metadata": {},
     "output_type": "execute_result"
    }
   ],
   "source": [
    "@testset \"It works on different types\" begin\n",
    "    @test isapprox(D(sin)(2//3), cos(2//3)) # Rationals\n",
    "    @test isapprox(D(sin)(1+2im), cos(1+2im)) # Complex integers!\n",
    "    @test isapprox(D(cos)(1.0+3.5im), -sin(1.0+3.5im)) # Boring complex floating point numbers\n",
    "    @test isapprox(D(sqrt)(2), 1/(2*sqrt(2.0))) # Automatically promotes to the correct type.\n",
    "end"
   ]
  },
  {
   "cell_type": "markdown",
   "metadata": {},
   "source": [
    "Here is the example from class today, which is much cleaner now that we've got the type promotion working!"
   ]
  },
  {
   "cell_type": "code",
   "execution_count": 22,
   "metadata": {},
   "outputs": [
    {
     "data": {
      "text/plain": [
       "\u001b[32m\u001b[1mTest Passed\u001b[22m\u001b[39m"
      ]
     },
     "execution_count": 22,
     "metadata": {},
     "output_type": "execute_result"
    }
   ],
   "source": [
    "freq = sqrt(2)\n",
    "\n",
    "function f(x)\n",
    "    return exp(-x/pi)*sin(2.0*pi*freq*x)\n",
    "end\n",
    "fprime = D(f)\n",
    "\n",
    "function laborious_fprime(x)\n",
    "    return exp(-x/pi)*(2*pi*freq*cos(2*pi*freq*x) - sin(2*pi*freq*x)/pi)\n",
    "end\n",
    "\n",
    "@test isapprox(fprime(3), laborious_fprime(3))"
   ]
  },
  {
   "cell_type": "markdown",
   "metadata": {},
   "source": [
    "Let's try the partial derivative example that didn't work in class today."
   ]
  },
  {
   "cell_type": "code",
   "execution_count": 33,
   "metadata": {},
   "outputs": [
    {
     "name": "stdout",
     "output_type": "stream",
     "text": [
      "\u001b[37m\u001b[1mTest Summary:               | \u001b[22m\u001b[39m\u001b[32m\u001b[1mPass  \u001b[22m\u001b[39m\u001b[36m\u001b[1mTotal\u001b[22m\u001b[39m\n",
      "partials of linear function | \u001b[32m   3  \u001b[39m\u001b[36m    3\u001b[39m\n"
     ]
    },
    {
     "data": {
      "text/plain": [
       "Test.DefaultTestSet(\"partials of linear function\", Any[], 3, false)"
      ]
     },
     "execution_count": 33,
     "metadata": {},
     "output_type": "execute_result"
    }
   ],
   "source": [
    "function linear(x, m, b)\n",
    "    return m*x+b\n",
    "end\n",
    "dldx = D(1, linear)\n",
    "dldslope = D(2, linear)\n",
    "dldintercept = D(3, linear)\n",
    "\n",
    "@testset \"partials of linear function\" begin\n",
    "    x = randn()\n",
    "    m = randn()\n",
    "    b = randn()\n",
    "    @test isapprox(dldx(x,m,b), m)\n",
    "    @test isapprox(dldslope(x,m,b), x)\n",
    "    @test isapprox(dldintercept(x,m,b), 1)\n",
    "end"
   ]
  },
  {
   "cell_type": "code",
   "execution_count": null,
   "metadata": {},
   "outputs": [],
   "source": []
  }
 ],
 "metadata": {
  "kernelspec": {
   "display_name": "Julia 1.2.0",
   "language": "julia",
   "name": "julia-1.2"
  },
  "language_info": {
   "file_extension": ".jl",
   "mimetype": "application/julia",
   "name": "julia",
   "version": "1.2.0"
  }
 },
 "nbformat": 4,
 "nbformat_minor": 2
}
